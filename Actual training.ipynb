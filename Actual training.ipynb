{
 "cells": [
  {
   "cell_type": "code",
   "execution_count": null,
   "metadata": {},
   "outputs": [],
   "source": [
    "import os\n",
    "import sys\n",
    "from pathlib import Path\n",
    "\n",
    "# Models\n",
    "MODELS_CONFIG = {\n",
    "    'ssd_mobilenet_v2': {\n",
    "        'model_name': 'ssd_mobilenet_v2_320x320_coco17_tpu-8',\n",
    "        'model_path': '/models/tf2/my_ssd_mobilenet_v2/',\n",
    "        'pipeline_file': 'pipeline.config'\n",
    "    },\n",
    "    'ssd_mobilenet_v2_fpn': {\n",
    "        'model_name': 'ssd_mobilenet_v2_fpnlite_320x320_coco17_tpu-8',\n",
    "        'model_path': '/models/tf2/my_ssd_mobilenet_v2_fpnlite/',\n",
    "        'pipeline_file': 'pipeline.config'\n",
    "    },\n",
    "    'my_centernet_resnet50_v1_fpn': {\n",
    "        'model_name': 'centernet_resnet50_v1_fpn_512x512_coco17_tpu-8',\n",
    "        'model_path': '/models/tf2/my_centernet_resnet50_v1_fpn/',\n",
    "        'pipeline_file': 'pipeline.config'\n",
    "    },\n",
    "    'my_centernet_resnet101_v1_fpn': {\n",
    "        'model_name': 'centernet_resnet101_v1_fpn_512x512_coco17_tpu-8',\n",
    "        'model_path': '/models/tf2/my_centernet_resnet101_v1_fpn/',\n",
    "        'pipeline_file': 'pipeline.config'\n",
    "    }\n",
    "}\n",
    "\n",
    "# Select a model to use.\n",
    "selected_model = 'ssd_mobilenet_v2_fpn'\n",
    "\n",
    "model_name = MODELS_CONFIG[selected_model]['model_name']\n",
    "model_path = MODELS_CONFIG[selected_model]['model_path']\n",
    "pipeline_file = MODELS_CONFIG[selected_model]['pipeline_file']\n",
    "\n",
    "# Set Label Map (.pbtxt) path and pipeline.config path\n",
    "label_map_pbtxt_fname = 'label-map.pbtxt'\n",
    "pipeline_fname = pipeline_file\n",
    "\n",
    "# Set .record path\n",
    "test_record_fname = 'transformed/test.record'\n",
    "train_record_fname = 'transformed/train.record'\n",
    "\n",
    "# Set output directories and clean up\n",
    "model_dir = 'training/'\n",
    "output_dir = 'exported-models/'\n",
    "\n",
    "#!rm -rf {model_dir} {output_dir}\n",
    "os.makedirs(model_dir, exist_ok=True)\n",
    "os.makedirs(output_dir, exist_ok=True)"
   ]
  },
  {
   "cell_type": "code",
   "execution_count": null,
   "metadata": {},
   "outputs": [],
   "source": [
    "# Clone Tensorflow model repo\n",
    "!git clone --quiet https://github.com/tensorflow/models.git"
   ]
  },
  {
   "cell_type": "code",
   "execution_count": null,
   "metadata": {},
   "outputs": [],
   "source": [
    "# Compile protocol buffers\n",
    "%cd models/research\n",
    "!protoc object_detection/protos/*.proto --python_out=.\n",
    "%cd ../.."
   ]
  },
  {
   "cell_type": "code",
   "execution_count": null,
   "metadata": {},
   "outputs": [],
   "source": [
    "sys_path =  set(sys.path)\n",
    "add_to_path = [ \"models/research/slim\", \"models/research\", \"models\"]\n",
    "for path in add_to_path:\n",
    "    p = str(Path(Path.cwd(),path))\n",
    "    if p not in sys_path:\n",
    "        sys.path.insert(0, p)\n",
    "os.environ[\"PYTHONPATH\"] = \";\".join(sys.path)"
   ]
  },
  {
   "cell_type": "code",
   "execution_count": null,
   "metadata": {},
   "outputs": [],
   "source": [
    "%cd models/research\n",
    "!pip install .\n",
    "\n",
    "!python object_detection/builders/model_builder_test.py\n",
    "%cd ../.."
   ]
  },
  {
   "cell_type": "code",
   "execution_count": null,
   "metadata": {},
   "outputs": [],
   "source": [
    "%cd models/research\n",
    "\n",
    "import os\n",
    "import shutil\n",
    "import glob\n",
    "import urllib.request\n",
    "import tarfile\n",
    "MODEL_FILE = model_name + '.tar.gz'\n",
    "DOWNLOAD_BASE = 'http://download.tensorflow.org/models/object_detection/tf2/20200711/'\n",
    "DEST_DIR = 'pretrained_model'\n",
    "\n",
    "if not (os.path.exists(MODEL_FILE)):\n",
    "    urllib.request.urlretrieve(DOWNLOAD_BASE + MODEL_FILE, MODEL_FILE)\n",
    "\n",
    "tar = tarfile.open(MODEL_FILE)\n",
    "tar.extractall()\n",
    "tar.close()\n",
    "\n",
    "os.remove(MODEL_FILE)\n",
    "if (os.path.exists(DEST_DIR)):\n",
    "    shutil.rmtree(DEST_DIR)\n",
    "os.rename(model_name, DEST_DIR)\n",
    "\n",
    "# Check downloaded files\n",
    "#!echo {DEST_DIR}\n",
    "#!ls -alh {DEST_DIR}\n",
    "\n",
    "# Set fine tune checkpoint\n",
    "fine_tune_checkpoint = os.path.join(DEST_DIR, \"checkpoint/ckpt-0\")\n",
    "print(\"fine_tune_checkpoint: \", fine_tune_checkpoint)\n",
    "\n",
    "%cd ../.."
   ]
  },
  {
   "cell_type": "code",
   "execution_count": null,
   "metadata": {},
   "outputs": [],
   "source": [
    "!python xml_to_csv.py -i transformed/train/annotations -o train.csv\n",
    "!python xml_to_csv.py -i transformed/test/annotations -o test.csv\n",
    "!python xml_to_csv.py -i transformed/validate/annotations -o valdiate.csv"
   ]
  },
  {
   "cell_type": "code",
   "execution_count": null,
   "metadata": {},
   "outputs": [],
   "source": [
    "!python generate_tfrecord.py -in train.csv -out train.tfrecord -images transformed/train/images\n",
    "!python generate_tfrecord.py -in test.csv -out test.tfrecord -images transformed/test/images\n",
    "!python generate_tfrecord.py -in valdiate.csv -out validate.tfrecord -images transformed/validate/images"
   ]
  },
  {
   "cell_type": "markdown",
   "metadata": {},
   "source": [
    "## Tensorboard (?)"
   ]
  },
  {
   "cell_type": "code",
   "execution_count": null,
   "metadata": {},
   "outputs": [],
   "source": [
    "LOG_DIR = model_dir\n",
    "model_dir, output_dir"
   ]
  },
  {
   "cell_type": "markdown",
   "metadata": {},
   "source": [
    "## Training"
   ]
  },
  {
   "cell_type": "code",
   "execution_count": null,
   "metadata": {},
   "outputs": [],
   "source": [
    "!python models/research/object_detection/model_main_tf2.py \\\n",
    "    --pipeline_config_path={pipeline_fname} \\\n",
    "    --model_dir={model_dir} \\\n",
    "    --alsologtostderr"
   ]
  },
  {
   "cell_type": "code",
   "execution_count": null,
   "metadata": {},
   "outputs": [],
   "source": [
    "!python models/research/object_detection/model_main_tf2.py \\\n",
    "    --pipeline_config_path={pipeline_fname} \\\n",
    "    --model_dir={model_dir} \\\n",
    "    --checkpoint_dir={model_dir} \\\n",
    "    --eval_timeout=60"
   ]
  },
  {
   "cell_type": "markdown",
   "metadata": {},
   "source": [
    "### Exported"
   ]
  },
  {
   "cell_type": "code",
   "execution_count": null,
   "metadata": {},
   "outputs": [],
   "source": [
    "!python models/research/object_detection/exporter_main_v2.py \\\n",
    "    --input_type image_tensor \\\n",
    "    --pipeline_config_path {pipeline_fname} \\\n",
    "    --trained_checkpoint_dir {model_dir} \\\n",
    "    --output_directory {output_dir}"
   ]
  },
  {
   "cell_type": "code",
   "execution_count": null,
   "metadata": {},
   "outputs": [],
   "source": []
  }
 ],
 "metadata": {
  "kernelspec": {
   "display_name": "Python 3",
   "language": "python",
   "name": "python3"
  },
  "language_info": {
   "codemirror_mode": {
    "name": "ipython",
    "version": 3
   },
   "file_extension": ".py",
   "mimetype": "text/x-python",
   "name": "python",
   "nbconvert_exporter": "python",
   "pygments_lexer": "ipython3",
   "version": "3.7.5"
  }
 },
 "nbformat": 4,
 "nbformat_minor": 4
}
