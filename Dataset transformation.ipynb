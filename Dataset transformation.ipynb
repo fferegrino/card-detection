{
 "cells": [
  {
   "cell_type": "code",
   "execution_count": null,
   "metadata": {},
   "outputs": [],
   "source": [
    "from pathlib import Path\n",
    "from pascal_voc_writer import Writer\n",
    "from skimage import io\n",
    "import matplotlib.pyplot as plt\n",
    "from matplotlib.collections import PatchCollection\n",
    "from matplotlib.patches import Rectangle\n",
    "import numpy as np\n",
    "import itertools\n",
    "\n",
    "from skimage.transform import rescale, resize, downscale_local_mean"
   ]
  },
  {
   "cell_type": "code",
   "execution_count": null,
   "metadata": {},
   "outputs": [],
   "source": [
    "dataset_folder = Path(\"generated\")\n",
    "dataset_limit = 10"
   ]
  },
  {
   "cell_type": "code",
   "execution_count": null,
   "metadata": {},
   "outputs": [],
   "source": [
    "def load_bounding_boxes(bb_file):\n",
    "    boxes = []\n",
    "    with open(bb_file) as readable:\n",
    "        for line in readable:\n",
    "            parts = line.split()\n",
    "            if len(parts) > 5:\n",
    "                continue\n",
    "            boxes.append((\n",
    "                parts[0],\n",
    "                int(parts[1]),\n",
    "                int(parts[2]),\n",
    "                int(parts[3]),\n",
    "                int(parts[4])\n",
    "            ))\n",
    "    return boxes\n",
    "image = io.imread(dataset_folder / \"images\" / \"000003.jpg\")\n",
    "boxes  = load_bounding_boxes(dataset_folder / \"bounding_boxes\" / \"000003.txt\")"
   ]
  },
  {
   "cell_type": "code",
   "execution_count": null,
   "metadata": {},
   "outputs": [],
   "source": [
    "def show_with_boxes(image, boxes):\n",
    "    fig = plt.figure(figsize=(16,9))\n",
    "    ax = fig.gca()\n",
    "    rects = []\n",
    "    for box in boxes:\n",
    "        rect = Rectangle((box[1], box[2]),box[3], box[4],facecolor='red', fill=False, alpha=1)\n",
    "        ax.text(box[1], box[2], box[0], size=7)\n",
    "        rects.append(rect)\n",
    "\n",
    "    ax.imshow(image)\n",
    "    pc = PatchCollection(rects, match_original=True)\n",
    "\n",
    "    ax.add_collection(pc)\n",
    "    \n",
    "    fig.show()\n",
    "    \n",
    "show_with_boxes(image, boxes)"
   ]
  },
  {
   "cell_type": "code",
   "execution_count": null,
   "metadata": {},
   "outputs": [],
   "source": [
    "def resize_with_boxes(image, boxes, shape=(512,512)):\n",
    "    new_boxes = []\n",
    "    image_resized = (resize(image, shape, anti_aliasing=True) * 255).astype(np.uint8)\n",
    "    \n",
    "    y_ = image.shape[0]\n",
    "    x_ = image.shape[1]\n",
    "    \n",
    "    x_scale = shape[0] / x_\n",
    "    y_scale = shape[1] / y_\n",
    "    \n",
    "    for box in boxes:\n",
    "        (origLeft, origTop, origRight, origBottom) = box[1:]\n",
    "\n",
    "        x = int(origLeft * x_scale)\n",
    "        y = int(origTop * y_scale)\n",
    "        xmax = int(origRight * x_scale)\n",
    "        ymax = int(origBottom * y_scale)\n",
    "        \n",
    "        new_boxes.append((\n",
    "            box[0],\n",
    "            x,\n",
    "            y,\n",
    "            xmax,\n",
    "            ymax\n",
    "        ))\n",
    "    return image_resized, new_boxes\n",
    "\n",
    "\n",
    "splits = {\"train\":{}, \"test\":{}, \"validate\":{}}\n",
    "\n",
    "for split in splits:\n",
    "    transformed_images_folder = Path(f\"transformed/{split}/images\")\n",
    "    transformed_annotations_folder = Path(f\"transformed/{split}/annotations\")\n",
    "    transformed_images_folder.mkdir(exist_ok=True, parents=True)\n",
    "    transformed_annotations_folder.mkdir(exist_ok=True, parents=True)\n",
    "    \n",
    "    splits[split][\"images\"] = transformed_images_folder\n",
    "    splits[split][\"annotations\"] = transformed_annotations_folder\n",
    "\n",
    "def resize_example(input_args):\n",
    "    example, segment = input_args\n",
    "    example = f\"{example:06}\"\n",
    "    image = io.imread(dataset_folder / \"images\" / f\"{example}.jpg\")\n",
    "    boxes = load_bounding_boxes(dataset_folder / \"bounding_boxes\" / f\"{example}.txt\")\n",
    "    \n",
    "    image_path = splits[segment][\"images\"] / f\"{example}.jpg\"\n",
    "    annotation_path = splits[segment][\"annotations\"] / f\"{example}.xml\"\n",
    "    \n",
    "    resized_image, resized_boxes = resize_with_boxes(image, boxes)\n",
    "    \n",
    "    writer = Writer(str(image_path), 512, 512)\n",
    "\n",
    "    for object_class, x, y, width, height in resized_boxes:\n",
    "        writer.addObject(object_class, x, y, x+width, y+height)\n",
    "\n",
    "    io.imsave(image_path, resized_image)\n",
    "    writer.save(annotation_path)"
   ]
  },
  {
   "cell_type": "code",
   "execution_count": null,
   "metadata": {},
   "outputs": [],
   "source": [
    "image_resized, resized_boxes = resize_with_boxes(image, boxes)\n",
    "show_with_boxes(image_resized, resized_boxes)"
   ]
  },
  {
   "cell_type": "code",
   "execution_count": null,
   "metadata": {},
   "outputs": [],
   "source": [
    "train_examples = 7_000\n",
    "test_examples = 2_000\n",
    "validate_examples = 2_000\n",
    "\n",
    "examples = itertools.chain(\n",
    "    ((idx,\"train\") for idx in range(0, train_examples)),\n",
    "    ((idx,\"test\") for idx in range(train_examples, train_examples + test_examples)),\n",
    "    ((idx,\"validate\") for idx in range(train_examples + test_examples, train_examples + test_examples + validate_examples)),\n",
    ")"
   ]
  },
  {
   "cell_type": "code",
   "execution_count": null,
   "metadata": {},
   "outputs": [],
   "source": [
    "import time\n",
    "import os\n",
    "from joblib import Parallel, delayed\n",
    "\n",
    "t0 = time.time()\n",
    "\n",
    "Parallel(n_jobs=12, prefer=\"threads\")(delayed(resize_example)(args) for args in examples)\n",
    "\n",
    "t1 = time.time()\n",
    "\n",
    "print(t1-t0)\n"
   ]
  },
  {
   "cell_type": "code",
   "execution_count": null,
   "metadata": {},
   "outputs": [],
   "source": []
  }
 ],
 "metadata": {
  "kernelspec": {
   "display_name": "Python 3",
   "language": "python",
   "name": "python3"
  },
  "language_info": {
   "codemirror_mode": {
    "name": "ipython",
    "version": 3
   },
   "file_extension": ".py",
   "mimetype": "text/x-python",
   "name": "python",
   "nbconvert_exporter": "python",
   "pygments_lexer": "ipython3",
   "version": "3.7.5"
  }
 },
 "nbformat": 4,
 "nbformat_minor": 4
}
